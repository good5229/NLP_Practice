{
  "nbformat": 4,
  "nbformat_minor": 0,
  "metadata": {
    "colab": {
      "name": "Text Generation Using RNN(basic).ipynb",
      "provenance": [],
      "authorship_tag": "ABX9TyPOchXqF4zLk+/hDRxfkXrc",
      "include_colab_link": true
    },
    "kernelspec": {
      "name": "python3",
      "display_name": "Python 3"
    }
  },
  "cells": [
    {
      "cell_type": "markdown",
      "metadata": {
        "id": "view-in-github",
        "colab_type": "text"
      },
      "source": [
        "<a href=\"https://colab.research.google.com/github/good5229/NLP_Practice/blob/main/Text_Generation_Using_RNN(basic).ipynb\" target=\"_parent\"><img src=\"https://colab.research.google.com/assets/colab-badge.svg\" alt=\"Open In Colab\"/></a>"
      ]
    },
    {
      "cell_type": "code",
      "metadata": {
        "id": "aju0QA6IvdvA"
      },
      "source": [
        "from tensorflow.keras.preprocessing.text import Tokenizer\n",
        "from tensorflow.keras.preprocessing.sequence import pad_sequences\n",
        "import numpy as np\n",
        "from tensorflow.keras.utils import to_categorical"
      ],
      "execution_count": 1,
      "outputs": []
    },
    {
      "cell_type": "code",
      "metadata": {
        "colab": {
          "base_uri": "https://localhost:8080/"
        },
        "id": "Ls1mtbK0vkGC",
        "outputId": "d5c38e81-426e-40f2-c1ae-749816c7e77b"
      },
      "source": [
        "text=\"\"\"경마장에 있는 말이 뛰고 있다\\n\n",
        "그의 말이 법이다\\n\n",
        "가는 말이 고와야 오는 말이 곱다\\n\"\"\"\n",
        "\n",
        "t = Tokenizer()\n",
        "t.fit_on_texts([text])\n",
        "vocab_size = len(t.word_index) + 1\n",
        "# 케라스 토크나이저의 정수 인코딩은 인덱스가 1부터 시작하지만,\n",
        "# 케라스 원-핫 인코딩에서 배열의 인덱스가 0부터 시작하기 때문에\n",
        "# 배열의 크기를 실제 단어 집합의 크기보다 +1로 생성해야하므로 미리 +1 선언 \n",
        "print('단어 집합의 크기 : %d' % vocab_size)"
      ],
      "execution_count": 3,
      "outputs": [
        {
          "output_type": "stream",
          "text": [
            "단어 집합의 크기 : 12\n"
          ],
          "name": "stdout"
        }
      ]
    },
    {
      "cell_type": "code",
      "metadata": {
        "colab": {
          "base_uri": "https://localhost:8080/"
        },
        "id": "p9G06gxgvnj4",
        "outputId": "962d0f45-7271-4dd2-8161-d20da295008d"
      },
      "source": [
        "sequences = list()\n",
        "for line in text.split('\\n'): # Wn을 기준으로 문장 토큰화\n",
        "    encoded = t.texts_to_sequences([line])[0]\n",
        "    for i in range(1, len(encoded)):\n",
        "        sequence = encoded[:i+1]\n",
        "        sequences.append(sequence)\n",
        "\n",
        "print('학습에 사용할 샘플의 개수: %d' % len(sequences))"
      ],
      "execution_count": 4,
      "outputs": [
        {
          "output_type": "stream",
          "text": [
            "학습에 사용할 샘플의 개수: 11\n"
          ],
          "name": "stdout"
        }
      ]
    },
    {
      "cell_type": "code",
      "metadata": {
        "colab": {
          "base_uri": "https://localhost:8080/"
        },
        "id": "9lKJUW3AvqBs",
        "outputId": "47dfe015-be2d-4337-df3b-2a1386a502a3"
      },
      "source": [
        "print(sequences)"
      ],
      "execution_count": 5,
      "outputs": [
        {
          "output_type": "stream",
          "text": [
            "[[2, 3], [2, 3, 1], [2, 3, 1, 4], [2, 3, 1, 4, 5], [6, 1], [6, 1, 7], [8, 1], [8, 1, 9], [8, 1, 9, 10], [8, 1, 9, 10, 1], [8, 1, 9, 10, 1, 11]]\n"
          ],
          "name": "stdout"
        }
      ]
    },
    {
      "cell_type": "code",
      "metadata": {
        "colab": {
          "base_uri": "https://localhost:8080/"
        },
        "id": "1eoieqB7vrpl",
        "outputId": "3f7271f9-8121-4174-a40f-0ace6ba4cad3"
      },
      "source": [
        "max_len=max(len(l) for l in sequences) # 모든 샘플에서 길이가 가장 긴 샘플의 길이 출력\n",
        "print('샘플의 최대 길이 : {}'.format(max_len))"
      ],
      "execution_count": 6,
      "outputs": [
        {
          "output_type": "stream",
          "text": [
            "샘플의 최대 길이 : 6\n"
          ],
          "name": "stdout"
        }
      ]
    },
    {
      "cell_type": "code",
      "metadata": {
        "colab": {
          "base_uri": "https://localhost:8080/"
        },
        "id": "GewiwpIhvtQy",
        "outputId": "cca52ea3-6f54-439e-f695-c2e3442c44f9"
      },
      "source": [
        "sequences = pad_sequences(sequences, maxlen=max_len, padding='pre')\n",
        "print(sequences)"
      ],
      "execution_count": 7,
      "outputs": [
        {
          "output_type": "stream",
          "text": [
            "[[ 0  0  0  0  2  3]\n",
            " [ 0  0  0  2  3  1]\n",
            " [ 0  0  2  3  1  4]\n",
            " [ 0  2  3  1  4  5]\n",
            " [ 0  0  0  0  6  1]\n",
            " [ 0  0  0  6  1  7]\n",
            " [ 0  0  0  0  8  1]\n",
            " [ 0  0  0  8  1  9]\n",
            " [ 0  0  8  1  9 10]\n",
            " [ 0  8  1  9 10  1]\n",
            " [ 8  1  9 10  1 11]]\n"
          ],
          "name": "stdout"
        }
      ]
    },
    {
      "cell_type": "code",
      "metadata": {
        "id": "Slq_AmAkvv6G"
      },
      "source": [
        "sequences = np.array(sequences)\n",
        "X = sequences[:,:-1]\n",
        "y = sequences[:,-1]\n",
        "# 리스트의 마지막 값을 제외하고 저장한 것은 X\n",
        "# 리스트의 마지막 값만 저장한 것은 y. 이는 레이블에 해당됨."
      ],
      "execution_count": 9,
      "outputs": []
    },
    {
      "cell_type": "code",
      "metadata": {
        "colab": {
          "base_uri": "https://localhost:8080/"
        },
        "id": "cAVg8iewvyOm",
        "outputId": "2ac1aa95-bb1a-458b-8fd1-0c67412ae1bb"
      },
      "source": [
        "print(X)"
      ],
      "execution_count": 10,
      "outputs": [
        {
          "output_type": "stream",
          "text": [
            "[[ 0  0  0  0  2]\n",
            " [ 0  0  0  2  3]\n",
            " [ 0  0  2  3  1]\n",
            " [ 0  2  3  1  4]\n",
            " [ 0  0  0  0  6]\n",
            " [ 0  0  0  6  1]\n",
            " [ 0  0  0  0  8]\n",
            " [ 0  0  0  8  1]\n",
            " [ 0  0  8  1  9]\n",
            " [ 0  8  1  9 10]\n",
            " [ 8  1  9 10  1]]\n"
          ],
          "name": "stdout"
        }
      ]
    },
    {
      "cell_type": "code",
      "metadata": {
        "colab": {
          "base_uri": "https://localhost:8080/"
        },
        "id": "wqN6b5Omv1lO",
        "outputId": "01cd93e8-d9f5-4802-8ce6-1e70877d80ad"
      },
      "source": [
        "y = to_categorical(y, num_classes=vocab_size)\n",
        "print(y)"
      ],
      "execution_count": 11,
      "outputs": [
        {
          "output_type": "stream",
          "text": [
            "[[0. 0. 0. 1. 0. 0. 0. 0. 0. 0. 0. 0.]\n",
            " [0. 1. 0. 0. 0. 0. 0. 0. 0. 0. 0. 0.]\n",
            " [0. 0. 0. 0. 1. 0. 0. 0. 0. 0. 0. 0.]\n",
            " [0. 0. 0. 0. 0. 1. 0. 0. 0. 0. 0. 0.]\n",
            " [0. 1. 0. 0. 0. 0. 0. 0. 0. 0. 0. 0.]\n",
            " [0. 0. 0. 0. 0. 0. 0. 1. 0. 0. 0. 0.]\n",
            " [0. 1. 0. 0. 0. 0. 0. 0. 0. 0. 0. 0.]\n",
            " [0. 0. 0. 0. 0. 0. 0. 0. 0. 1. 0. 0.]\n",
            " [0. 0. 0. 0. 0. 0. 0. 0. 0. 0. 1. 0.]\n",
            " [0. 1. 0. 0. 0. 0. 0. 0. 0. 0. 0. 0.]\n",
            " [0. 0. 0. 0. 0. 0. 0. 0. 0. 0. 0. 1.]]\n"
          ],
          "name": "stdout"
        }
      ]
    },
    {
      "cell_type": "code",
      "metadata": {
        "id": "HCQttgmzv4Bd"
      },
      "source": [
        "from tensorflow.keras.models import Sequential\n",
        "from tensorflow.keras.layers import Embedding, Dense, SimpleRNN"
      ],
      "execution_count": 12,
      "outputs": []
    },
    {
      "cell_type": "code",
      "metadata": {
        "colab": {
          "base_uri": "https://localhost:8080/"
        },
        "id": "SlzAd33Vv5iz",
        "outputId": "49400adc-4ced-4ec1-c63c-a7fde71d94cc"
      },
      "source": [
        "model = Sequential()\n",
        "model.add(Embedding(vocab_size, 10, input_length=max_len-1)) # 레이블을 분리하였으므로 이제 X의 길이는 5\n",
        "model.add(SimpleRNN(32))\n",
        "model.add(Dense(vocab_size, activation='softmax'))\n",
        "model.compile(loss='categorical_crossentropy', optimizer='adam', metrics=['accuracy'])\n",
        "model.fit(X, y, epochs=200, verbose=2)"
      ],
      "execution_count": 13,
      "outputs": [
        {
          "output_type": "stream",
          "text": [
            "Epoch 1/200\n",
            "1/1 - 1s - loss: 2.4913 - accuracy: 0.0000e+00\n",
            "Epoch 2/200\n",
            "1/1 - 0s - loss: 2.4798 - accuracy: 0.0909\n",
            "Epoch 3/200\n",
            "1/1 - 0s - loss: 2.4686 - accuracy: 0.2727\n",
            "Epoch 4/200\n",
            "1/1 - 0s - loss: 2.4576 - accuracy: 0.2727\n",
            "Epoch 5/200\n",
            "1/1 - 0s - loss: 2.4467 - accuracy: 0.2727\n",
            "Epoch 6/200\n",
            "1/1 - 0s - loss: 2.4357 - accuracy: 0.3636\n",
            "Epoch 7/200\n",
            "1/1 - 0s - loss: 2.4245 - accuracy: 0.3636\n",
            "Epoch 8/200\n",
            "1/1 - 0s - loss: 2.4130 - accuracy: 0.5455\n",
            "Epoch 9/200\n",
            "1/1 - 0s - loss: 2.4012 - accuracy: 0.5455\n",
            "Epoch 10/200\n",
            "1/1 - 0s - loss: 2.3889 - accuracy: 0.5455\n",
            "Epoch 11/200\n",
            "1/1 - 0s - loss: 2.3760 - accuracy: 0.5455\n",
            "Epoch 12/200\n",
            "1/1 - 0s - loss: 2.3625 - accuracy: 0.5455\n",
            "Epoch 13/200\n",
            "1/1 - 0s - loss: 2.3484 - accuracy: 0.5455\n",
            "Epoch 14/200\n",
            "1/1 - 0s - loss: 2.3334 - accuracy: 0.5455\n",
            "Epoch 15/200\n",
            "1/1 - 0s - loss: 2.3176 - accuracy: 0.5455\n",
            "Epoch 16/200\n",
            "1/1 - 0s - loss: 2.3009 - accuracy: 0.4545\n",
            "Epoch 17/200\n",
            "1/1 - 0s - loss: 2.2832 - accuracy: 0.4545\n",
            "Epoch 18/200\n",
            "1/1 - 0s - loss: 2.2645 - accuracy: 0.4545\n",
            "Epoch 19/200\n",
            "1/1 - 0s - loss: 2.2447 - accuracy: 0.4545\n",
            "Epoch 20/200\n",
            "1/1 - 0s - loss: 2.2238 - accuracy: 0.4545\n",
            "Epoch 21/200\n",
            "1/1 - 0s - loss: 2.2018 - accuracy: 0.4545\n",
            "Epoch 22/200\n",
            "1/1 - 0s - loss: 2.1788 - accuracy: 0.4545\n",
            "Epoch 23/200\n",
            "1/1 - 0s - loss: 2.1547 - accuracy: 0.4545\n",
            "Epoch 24/200\n",
            "1/1 - 0s - loss: 2.1296 - accuracy: 0.4545\n",
            "Epoch 25/200\n",
            "1/1 - 0s - loss: 2.1038 - accuracy: 0.3636\n",
            "Epoch 26/200\n",
            "1/1 - 0s - loss: 2.0775 - accuracy: 0.3636\n",
            "Epoch 27/200\n",
            "1/1 - 0s - loss: 2.0509 - accuracy: 0.3636\n",
            "Epoch 28/200\n",
            "1/1 - 0s - loss: 2.0243 - accuracy: 0.3636\n",
            "Epoch 29/200\n",
            "1/1 - 0s - loss: 1.9981 - accuracy: 0.3636\n",
            "Epoch 30/200\n",
            "1/1 - 0s - loss: 1.9728 - accuracy: 0.3636\n",
            "Epoch 31/200\n",
            "1/1 - 0s - loss: 1.9485 - accuracy: 0.3636\n",
            "Epoch 32/200\n",
            "1/1 - 0s - loss: 1.9256 - accuracy: 0.3636\n",
            "Epoch 33/200\n",
            "1/1 - 0s - loss: 1.9041 - accuracy: 0.3636\n",
            "Epoch 34/200\n",
            "1/1 - 0s - loss: 1.8839 - accuracy: 0.3636\n",
            "Epoch 35/200\n",
            "1/1 - 0s - loss: 1.8648 - accuracy: 0.3636\n",
            "Epoch 36/200\n",
            "1/1 - 0s - loss: 1.8462 - accuracy: 0.3636\n",
            "Epoch 37/200\n",
            "1/1 - 0s - loss: 1.8277 - accuracy: 0.3636\n",
            "Epoch 38/200\n",
            "1/1 - 0s - loss: 1.8088 - accuracy: 0.3636\n",
            "Epoch 39/200\n",
            "1/1 - 0s - loss: 1.7893 - accuracy: 0.3636\n",
            "Epoch 40/200\n",
            "1/1 - 0s - loss: 1.7691 - accuracy: 0.3636\n",
            "Epoch 41/200\n",
            "1/1 - 0s - loss: 1.7482 - accuracy: 0.3636\n",
            "Epoch 42/200\n",
            "1/1 - 0s - loss: 1.7269 - accuracy: 0.3636\n",
            "Epoch 43/200\n",
            "1/1 - 0s - loss: 1.7055 - accuracy: 0.3636\n",
            "Epoch 44/200\n",
            "1/1 - 0s - loss: 1.6841 - accuracy: 0.4545\n",
            "Epoch 45/200\n",
            "1/1 - 0s - loss: 1.6630 - accuracy: 0.4545\n",
            "Epoch 46/200\n",
            "1/1 - 0s - loss: 1.6423 - accuracy: 0.4545\n",
            "Epoch 47/200\n",
            "1/1 - 0s - loss: 1.6219 - accuracy: 0.5455\n",
            "Epoch 48/200\n",
            "1/1 - 0s - loss: 1.6016 - accuracy: 0.5455\n",
            "Epoch 49/200\n",
            "1/1 - 0s - loss: 1.5813 - accuracy: 0.5455\n",
            "Epoch 50/200\n",
            "1/1 - 0s - loss: 1.5608 - accuracy: 0.6364\n",
            "Epoch 51/200\n",
            "1/1 - 0s - loss: 1.5398 - accuracy: 0.6364\n",
            "Epoch 52/200\n",
            "1/1 - 0s - loss: 1.5184 - accuracy: 0.6364\n",
            "Epoch 53/200\n",
            "1/1 - 0s - loss: 1.4965 - accuracy: 0.6364\n",
            "Epoch 54/200\n",
            "1/1 - 0s - loss: 1.4743 - accuracy: 0.6364\n",
            "Epoch 55/200\n",
            "1/1 - 0s - loss: 1.4519 - accuracy: 0.6364\n",
            "Epoch 56/200\n",
            "1/1 - 0s - loss: 1.4295 - accuracy: 0.6364\n",
            "Epoch 57/200\n",
            "1/1 - 0s - loss: 1.4072 - accuracy: 0.6364\n",
            "Epoch 58/200\n",
            "1/1 - 0s - loss: 1.3852 - accuracy: 0.6364\n",
            "Epoch 59/200\n",
            "1/1 - 0s - loss: 1.3635 - accuracy: 0.6364\n",
            "Epoch 60/200\n",
            "1/1 - 0s - loss: 1.3423 - accuracy: 0.6364\n",
            "Epoch 61/200\n",
            "1/1 - 0s - loss: 1.3215 - accuracy: 0.6364\n",
            "Epoch 62/200\n",
            "1/1 - 0s - loss: 1.3011 - accuracy: 0.6364\n",
            "Epoch 63/200\n",
            "1/1 - 0s - loss: 1.2811 - accuracy: 0.6364\n",
            "Epoch 64/200\n",
            "1/1 - 0s - loss: 1.2614 - accuracy: 0.6364\n",
            "Epoch 65/200\n",
            "1/1 - 0s - loss: 1.2420 - accuracy: 0.6364\n",
            "Epoch 66/200\n",
            "1/1 - 0s - loss: 1.2229 - accuracy: 0.6364\n",
            "Epoch 67/200\n",
            "1/1 - 0s - loss: 1.2041 - accuracy: 0.6364\n",
            "Epoch 68/200\n",
            "1/1 - 0s - loss: 1.1855 - accuracy: 0.6364\n",
            "Epoch 69/200\n",
            "1/1 - 0s - loss: 1.1673 - accuracy: 0.6364\n",
            "Epoch 70/200\n",
            "1/1 - 0s - loss: 1.1493 - accuracy: 0.6364\n",
            "Epoch 71/200\n",
            "1/1 - 0s - loss: 1.1316 - accuracy: 0.7273\n",
            "Epoch 72/200\n",
            "1/1 - 0s - loss: 1.1141 - accuracy: 0.7273\n",
            "Epoch 73/200\n",
            "1/1 - 0s - loss: 1.0969 - accuracy: 0.7273\n",
            "Epoch 74/200\n",
            "1/1 - 0s - loss: 1.0798 - accuracy: 0.7273\n",
            "Epoch 75/200\n",
            "1/1 - 0s - loss: 1.0630 - accuracy: 0.7273\n",
            "Epoch 76/200\n",
            "1/1 - 0s - loss: 1.0463 - accuracy: 0.7273\n",
            "Epoch 77/200\n",
            "1/1 - 0s - loss: 1.0298 - accuracy: 0.7273\n",
            "Epoch 78/200\n",
            "1/1 - 0s - loss: 1.0134 - accuracy: 0.7273\n",
            "Epoch 79/200\n",
            "1/1 - 0s - loss: 0.9973 - accuracy: 0.7273\n",
            "Epoch 80/200\n",
            "1/1 - 0s - loss: 0.9813 - accuracy: 0.7273\n",
            "Epoch 81/200\n",
            "1/1 - 0s - loss: 0.9656 - accuracy: 0.7273\n",
            "Epoch 82/200\n",
            "1/1 - 0s - loss: 0.9500 - accuracy: 0.7273\n",
            "Epoch 83/200\n",
            "1/1 - 0s - loss: 0.9347 - accuracy: 0.7273\n",
            "Epoch 84/200\n",
            "1/1 - 0s - loss: 0.9196 - accuracy: 0.7273\n",
            "Epoch 85/200\n",
            "1/1 - 0s - loss: 0.9046 - accuracy: 0.7273\n",
            "Epoch 86/200\n",
            "1/1 - 0s - loss: 0.8899 - accuracy: 0.7273\n",
            "Epoch 87/200\n",
            "1/1 - 0s - loss: 0.8754 - accuracy: 0.7273\n",
            "Epoch 88/200\n",
            "1/1 - 0s - loss: 0.8611 - accuracy: 0.7273\n",
            "Epoch 89/200\n",
            "1/1 - 0s - loss: 0.8469 - accuracy: 0.7273\n",
            "Epoch 90/200\n",
            "1/1 - 0s - loss: 0.8330 - accuracy: 0.7273\n",
            "Epoch 91/200\n",
            "1/1 - 0s - loss: 0.8192 - accuracy: 0.7273\n",
            "Epoch 92/200\n",
            "1/1 - 0s - loss: 0.8057 - accuracy: 0.7273\n",
            "Epoch 93/200\n",
            "1/1 - 0s - loss: 0.7923 - accuracy: 0.7273\n",
            "Epoch 94/200\n",
            "1/1 - 0s - loss: 0.7792 - accuracy: 0.7273\n",
            "Epoch 95/200\n",
            "1/1 - 0s - loss: 0.7662 - accuracy: 0.7273\n",
            "Epoch 96/200\n",
            "1/1 - 0s - loss: 0.7534 - accuracy: 0.7273\n",
            "Epoch 97/200\n",
            "1/1 - 0s - loss: 0.7409 - accuracy: 0.7273\n",
            "Epoch 98/200\n",
            "1/1 - 0s - loss: 0.7285 - accuracy: 0.7273\n",
            "Epoch 99/200\n",
            "1/1 - 0s - loss: 0.7163 - accuracy: 0.7273\n",
            "Epoch 100/200\n",
            "1/1 - 0s - loss: 0.7043 - accuracy: 0.7273\n",
            "Epoch 101/200\n",
            "1/1 - 0s - loss: 0.6925 - accuracy: 0.7273\n",
            "Epoch 102/200\n",
            "1/1 - 0s - loss: 0.6809 - accuracy: 0.7273\n",
            "Epoch 103/200\n",
            "1/1 - 0s - loss: 0.6695 - accuracy: 0.7273\n",
            "Epoch 104/200\n",
            "1/1 - 0s - loss: 0.6583 - accuracy: 0.7273\n",
            "Epoch 105/200\n",
            "1/1 - 0s - loss: 0.6473 - accuracy: 0.7273\n",
            "Epoch 106/200\n",
            "1/1 - 0s - loss: 0.6365 - accuracy: 0.7273\n",
            "Epoch 107/200\n",
            "1/1 - 0s - loss: 0.6258 - accuracy: 0.7273\n",
            "Epoch 108/200\n",
            "1/1 - 0s - loss: 0.6154 - accuracy: 0.7273\n",
            "Epoch 109/200\n",
            "1/1 - 0s - loss: 0.6051 - accuracy: 0.7273\n",
            "Epoch 110/200\n",
            "1/1 - 0s - loss: 0.5950 - accuracy: 0.7273\n",
            "Epoch 111/200\n",
            "1/1 - 0s - loss: 0.5851 - accuracy: 0.7273\n",
            "Epoch 112/200\n",
            "1/1 - 0s - loss: 0.5754 - accuracy: 0.8182\n",
            "Epoch 113/200\n",
            "1/1 - 0s - loss: 0.5658 - accuracy: 0.9091\n",
            "Epoch 114/200\n",
            "1/1 - 0s - loss: 0.5565 - accuracy: 0.9091\n",
            "Epoch 115/200\n",
            "1/1 - 0s - loss: 0.5473 - accuracy: 0.9091\n",
            "Epoch 116/200\n",
            "1/1 - 0s - loss: 0.5383 - accuracy: 0.9091\n",
            "Epoch 117/200\n",
            "1/1 - 0s - loss: 0.5294 - accuracy: 0.9091\n",
            "Epoch 118/200\n",
            "1/1 - 0s - loss: 0.5207 - accuracy: 0.9091\n",
            "Epoch 119/200\n",
            "1/1 - 0s - loss: 0.5122 - accuracy: 0.9091\n",
            "Epoch 120/200\n",
            "1/1 - 0s - loss: 0.5038 - accuracy: 0.9091\n",
            "Epoch 121/200\n",
            "1/1 - 0s - loss: 0.4957 - accuracy: 0.9091\n",
            "Epoch 122/200\n",
            "1/1 - 0s - loss: 0.4876 - accuracy: 0.9091\n",
            "Epoch 123/200\n",
            "1/1 - 0s - loss: 0.4797 - accuracy: 0.9091\n",
            "Epoch 124/200\n",
            "1/1 - 0s - loss: 0.4720 - accuracy: 0.9091\n",
            "Epoch 125/200\n",
            "1/1 - 0s - loss: 0.4644 - accuracy: 0.9091\n",
            "Epoch 126/200\n",
            "1/1 - 0s - loss: 0.4570 - accuracy: 0.9091\n",
            "Epoch 127/200\n",
            "1/1 - 0s - loss: 0.4497 - accuracy: 0.9091\n",
            "Epoch 128/200\n",
            "1/1 - 0s - loss: 0.4425 - accuracy: 0.9091\n",
            "Epoch 129/200\n",
            "1/1 - 0s - loss: 0.4355 - accuracy: 0.9091\n",
            "Epoch 130/200\n",
            "1/1 - 0s - loss: 0.4286 - accuracy: 0.9091\n",
            "Epoch 131/200\n",
            "1/1 - 0s - loss: 0.4219 - accuracy: 0.9091\n",
            "Epoch 132/200\n",
            "1/1 - 0s - loss: 0.4152 - accuracy: 0.9091\n",
            "Epoch 133/200\n",
            "1/1 - 0s - loss: 0.4087 - accuracy: 0.9091\n",
            "Epoch 134/200\n",
            "1/1 - 0s - loss: 0.4024 - accuracy: 0.9091\n",
            "Epoch 135/200\n",
            "1/1 - 0s - loss: 0.3961 - accuracy: 0.9091\n",
            "Epoch 136/200\n",
            "1/1 - 0s - loss: 0.3900 - accuracy: 0.9091\n",
            "Epoch 137/200\n",
            "1/1 - 0s - loss: 0.3840 - accuracy: 0.9091\n",
            "Epoch 138/200\n",
            "1/1 - 0s - loss: 0.3781 - accuracy: 1.0000\n",
            "Epoch 139/200\n",
            "1/1 - 0s - loss: 0.3723 - accuracy: 1.0000\n",
            "Epoch 140/200\n",
            "1/1 - 0s - loss: 0.3666 - accuracy: 1.0000\n",
            "Epoch 141/200\n",
            "1/1 - 0s - loss: 0.3610 - accuracy: 1.0000\n",
            "Epoch 142/200\n",
            "1/1 - 0s - loss: 0.3555 - accuracy: 1.0000\n",
            "Epoch 143/200\n",
            "1/1 - 0s - loss: 0.3501 - accuracy: 1.0000\n",
            "Epoch 144/200\n",
            "1/1 - 0s - loss: 0.3448 - accuracy: 1.0000\n",
            "Epoch 145/200\n",
            "1/1 - 0s - loss: 0.3395 - accuracy: 1.0000\n",
            "Epoch 146/200\n",
            "1/1 - 0s - loss: 0.3344 - accuracy: 1.0000\n",
            "Epoch 147/200\n",
            "1/1 - 0s - loss: 0.3293 - accuracy: 1.0000\n",
            "Epoch 148/200\n",
            "1/1 - 0s - loss: 0.3244 - accuracy: 1.0000\n",
            "Epoch 149/200\n",
            "1/1 - 0s - loss: 0.3195 - accuracy: 1.0000\n",
            "Epoch 150/200\n",
            "1/1 - 0s - loss: 0.3146 - accuracy: 1.0000\n",
            "Epoch 151/200\n",
            "1/1 - 0s - loss: 0.3098 - accuracy: 1.0000\n",
            "Epoch 152/200\n",
            "1/1 - 0s - loss: 0.3051 - accuracy: 1.0000\n",
            "Epoch 153/200\n",
            "1/1 - 0s - loss: 0.3005 - accuracy: 1.0000\n",
            "Epoch 154/200\n",
            "1/1 - 0s - loss: 0.2959 - accuracy: 1.0000\n",
            "Epoch 155/200\n",
            "1/1 - 0s - loss: 0.2914 - accuracy: 1.0000\n",
            "Epoch 156/200\n",
            "1/1 - 0s - loss: 0.2869 - accuracy: 1.0000\n",
            "Epoch 157/200\n",
            "1/1 - 0s - loss: 0.2825 - accuracy: 1.0000\n",
            "Epoch 158/200\n",
            "1/1 - 0s - loss: 0.2781 - accuracy: 1.0000\n",
            "Epoch 159/200\n",
            "1/1 - 0s - loss: 0.2738 - accuracy: 1.0000\n",
            "Epoch 160/200\n",
            "1/1 - 0s - loss: 0.2695 - accuracy: 1.0000\n",
            "Epoch 161/200\n",
            "1/1 - 0s - loss: 0.2653 - accuracy: 1.0000\n",
            "Epoch 162/200\n",
            "1/1 - 0s - loss: 0.2611 - accuracy: 1.0000\n",
            "Epoch 163/200\n",
            "1/1 - 0s - loss: 0.2569 - accuracy: 1.0000\n",
            "Epoch 164/200\n",
            "1/1 - 0s - loss: 0.2528 - accuracy: 1.0000\n",
            "Epoch 165/200\n",
            "1/1 - 0s - loss: 0.2487 - accuracy: 1.0000\n",
            "Epoch 166/200\n",
            "1/1 - 0s - loss: 0.2447 - accuracy: 1.0000\n",
            "Epoch 167/200\n",
            "1/1 - 0s - loss: 0.2407 - accuracy: 1.0000\n",
            "Epoch 168/200\n",
            "1/1 - 0s - loss: 0.2368 - accuracy: 1.0000\n",
            "Epoch 169/200\n",
            "1/1 - 0s - loss: 0.2328 - accuracy: 1.0000\n",
            "Epoch 170/200\n",
            "1/1 - 0s - loss: 0.2289 - accuracy: 1.0000\n",
            "Epoch 171/200\n",
            "1/1 - 0s - loss: 0.2251 - accuracy: 1.0000\n",
            "Epoch 172/200\n",
            "1/1 - 0s - loss: 0.2213 - accuracy: 1.0000\n",
            "Epoch 173/200\n",
            "1/1 - 0s - loss: 0.2175 - accuracy: 1.0000\n",
            "Epoch 174/200\n",
            "1/1 - 0s - loss: 0.2137 - accuracy: 1.0000\n",
            "Epoch 175/200\n",
            "1/1 - 0s - loss: 0.2100 - accuracy: 1.0000\n",
            "Epoch 176/200\n",
            "1/1 - 0s - loss: 0.2064 - accuracy: 1.0000\n",
            "Epoch 177/200\n",
            "1/1 - 0s - loss: 0.2027 - accuracy: 1.0000\n",
            "Epoch 178/200\n",
            "1/1 - 0s - loss: 0.1991 - accuracy: 1.0000\n",
            "Epoch 179/200\n",
            "1/1 - 0s - loss: 0.1956 - accuracy: 1.0000\n",
            "Epoch 180/200\n",
            "1/1 - 0s - loss: 0.1921 - accuracy: 1.0000\n",
            "Epoch 181/200\n",
            "1/1 - 0s - loss: 0.1886 - accuracy: 1.0000\n",
            "Epoch 182/200\n",
            "1/1 - 0s - loss: 0.1852 - accuracy: 1.0000\n",
            "Epoch 183/200\n",
            "1/1 - 0s - loss: 0.1818 - accuracy: 1.0000\n",
            "Epoch 184/200\n",
            "1/1 - 0s - loss: 0.1785 - accuracy: 1.0000\n",
            "Epoch 185/200\n",
            "1/1 - 0s - loss: 0.1752 - accuracy: 1.0000\n",
            "Epoch 186/200\n",
            "1/1 - 0s - loss: 0.1719 - accuracy: 1.0000\n",
            "Epoch 187/200\n",
            "1/1 - 0s - loss: 0.1687 - accuracy: 1.0000\n",
            "Epoch 188/200\n",
            "1/1 - 0s - loss: 0.1656 - accuracy: 1.0000\n",
            "Epoch 189/200\n",
            "1/1 - 0s - loss: 0.1625 - accuracy: 1.0000\n",
            "Epoch 190/200\n",
            "1/1 - 0s - loss: 0.1595 - accuracy: 1.0000\n",
            "Epoch 191/200\n",
            "1/1 - 0s - loss: 0.1565 - accuracy: 1.0000\n",
            "Epoch 192/200\n",
            "1/1 - 0s - loss: 0.1535 - accuracy: 1.0000\n",
            "Epoch 193/200\n",
            "1/1 - 0s - loss: 0.1507 - accuracy: 1.0000\n",
            "Epoch 194/200\n",
            "1/1 - 0s - loss: 0.1478 - accuracy: 1.0000\n",
            "Epoch 195/200\n",
            "1/1 - 0s - loss: 0.1450 - accuracy: 1.0000\n",
            "Epoch 196/200\n",
            "1/1 - 0s - loss: 0.1423 - accuracy: 1.0000\n",
            "Epoch 197/200\n",
            "1/1 - 0s - loss: 0.1397 - accuracy: 1.0000\n",
            "Epoch 198/200\n",
            "1/1 - 0s - loss: 0.1371 - accuracy: 1.0000\n",
            "Epoch 199/200\n",
            "1/1 - 0s - loss: 0.1345 - accuracy: 1.0000\n",
            "Epoch 200/200\n",
            "1/1 - 0s - loss: 0.1320 - accuracy: 1.0000\n"
          ],
          "name": "stdout"
        },
        {
          "output_type": "execute_result",
          "data": {
            "text/plain": [
              "<tensorflow.python.keras.callbacks.History at 0x7f04f2562240>"
            ]
          },
          "metadata": {
            "tags": []
          },
          "execution_count": 13
        }
      ]
    },
    {
      "cell_type": "code",
      "metadata": {
        "id": "d2hFX4Qiv6zL"
      },
      "source": [
        "def sentence_generation(model, t, current_word, n): # 모델, 토크나이저, 현재 단어, 반복할 횟수\n",
        "    init_word = current_word # 처음 들어온 단어도 마지막에 같이 출력하기위해 저장\n",
        "    sentence = ''\n",
        "    for _ in range(n): # n번 반복\n",
        "        encoded = t.texts_to_sequences([current_word])[0] # 현재 단어에 대한 정수 인코딩\n",
        "        encoded = pad_sequences([encoded], maxlen=5, padding='pre') # 데이터에 대한 패딩\n",
        "        result = model.predict_classes(encoded, verbose=0)\n",
        "    # 입력한 X(현재 단어)에 대해서 Y를 예측하고 Y(예측한 단어)를 result에 저장.\n",
        "        for word, index in t.word_index.items(): \n",
        "            if index == result: # 만약 예측한 단어와 인덱스와 동일한 단어가 있다면\n",
        "                break # 해당 단어가 예측 단어이므로 break\n",
        "        current_word = current_word + ' '  + word # 현재 단어 + ' ' + 예측 단어를 현재 단어로 변경\n",
        "        sentence = sentence + ' ' + word # 예측 단어를 문장에 저장\n",
        "    # for문이므로 이 행동을 다시 반복\n",
        "    sentence = init_word + sentence\n",
        "    return sentence"
      ],
      "execution_count": 14,
      "outputs": []
    },
    {
      "cell_type": "code",
      "metadata": {
        "colab": {
          "base_uri": "https://localhost:8080/"
        },
        "id": "4acuUXujv-Js",
        "outputId": "8350d667-574b-444d-acdf-51e5dd6efce9"
      },
      "source": [
        "print(sentence_generation(model, t, '경마장에', 4))"
      ],
      "execution_count": 15,
      "outputs": [
        {
          "output_type": "stream",
          "text": [
            "/usr/local/lib/python3.6/dist-packages/tensorflow/python/keras/engine/sequential.py:450: UserWarning: `model.predict_classes()` is deprecated and will be removed after 2021-01-01. Please use instead:* `np.argmax(model.predict(x), axis=-1)`,   if your model does multi-class classification   (e.g. if it uses a `softmax` last-layer activation).* `(model.predict(x) > 0.5).astype(\"int32\")`,   if your model does binary classification   (e.g. if it uses a `sigmoid` last-layer activation).\n",
            "  warnings.warn('`model.predict_classes()` is deprecated and '\n"
          ],
          "name": "stderr"
        },
        {
          "output_type": "stream",
          "text": [
            "경마장에 있는 말이 뛰고 있다\n"
          ],
          "name": "stdout"
        }
      ]
    },
    {
      "cell_type": "code",
      "metadata": {
        "colab": {
          "base_uri": "https://localhost:8080/"
        },
        "id": "x3aNmrLYwCnO",
        "outputId": "a2dad16f-8677-451a-e618-dc38b18af431"
      },
      "source": [
        "print(sentence_generation(model, t, '그의', 2)) # 2번 예측"
      ],
      "execution_count": 16,
      "outputs": [
        {
          "output_type": "stream",
          "text": [
            "그의 말이 법이다\n"
          ],
          "name": "stdout"
        },
        {
          "output_type": "stream",
          "text": [
            "/usr/local/lib/python3.6/dist-packages/tensorflow/python/keras/engine/sequential.py:450: UserWarning: `model.predict_classes()` is deprecated and will be removed after 2021-01-01. Please use instead:* `np.argmax(model.predict(x), axis=-1)`,   if your model does multi-class classification   (e.g. if it uses a `softmax` last-layer activation).* `(model.predict(x) > 0.5).astype(\"int32\")`,   if your model does binary classification   (e.g. if it uses a `sigmoid` last-layer activation).\n",
            "  warnings.warn('`model.predict_classes()` is deprecated and '\n"
          ],
          "name": "stderr"
        }
      ]
    },
    {
      "cell_type": "code",
      "metadata": {
        "colab": {
          "base_uri": "https://localhost:8080/"
        },
        "id": "Fa0K4ldEwDg7",
        "outputId": "fb348a5d-e80b-4023-89c2-5e29cbc5db3c"
      },
      "source": [
        "print(sentence_generation(model, t, '가는', 5)) # 5번 예측"
      ],
      "execution_count": 17,
      "outputs": [
        {
          "output_type": "stream",
          "text": [
            "가는 말이 고와야 오는 말이 곱다\n"
          ],
          "name": "stdout"
        },
        {
          "output_type": "stream",
          "text": [
            "/usr/local/lib/python3.6/dist-packages/tensorflow/python/keras/engine/sequential.py:450: UserWarning: `model.predict_classes()` is deprecated and will be removed after 2021-01-01. Please use instead:* `np.argmax(model.predict(x), axis=-1)`,   if your model does multi-class classification   (e.g. if it uses a `softmax` last-layer activation).* `(model.predict(x) > 0.5).astype(\"int32\")`,   if your model does binary classification   (e.g. if it uses a `sigmoid` last-layer activation).\n",
            "  warnings.warn('`model.predict_classes()` is deprecated and '\n"
          ],
          "name": "stderr"
        }
      ]
    },
    {
      "cell_type": "code",
      "metadata": {
        "id": "UQG7cmZYwEso"
      },
      "source": [
        ""
      ],
      "execution_count": null,
      "outputs": []
    }
  ]
}