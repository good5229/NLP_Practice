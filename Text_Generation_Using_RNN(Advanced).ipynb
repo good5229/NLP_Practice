{
  "nbformat": 4,
  "nbformat_minor": 0,
  "metadata": {
    "colab": {
      "name": "Text Generation Using RNN(Advanced).ipynb",
      "provenance": [],
      "authorship_tag": "ABX9TyN3QOAGrY/VCwnfQFdc9nIa",
      "include_colab_link": true
    },
    "kernelspec": {
      "name": "python3",
      "display_name": "Python 3"
    }
  },
  "cells": [
    {
      "cell_type": "markdown",
      "metadata": {
        "id": "view-in-github",
        "colab_type": "text"
      },
      "source": [
        "<a href=\"https://colab.research.google.com/github/good5229/NLP_Practice/blob/main/Text_Generation_Using_RNN(Advanced).ipynb\" target=\"_parent\"><img src=\"https://colab.research.google.com/assets/colab-badge.svg\" alt=\"Open In Colab\"/></a>"
      ]
    },
    {
      "cell_type": "code",
      "metadata": {
        "id": "IzILW4D528xC"
      },
      "source": [
        "import pandas as pd\n",
        "from string import punctuation\n",
        "from tensorflow.keras.preprocessing.text import Tokenizer\n",
        "from tensorflow.keras.preprocessing.sequence import pad_sequences\n",
        "import numpy as np\n",
        "from tensorflow.keras.utils import to_categorical"
      ],
      "execution_count": 1,
      "outputs": []
    },
    {
      "cell_type": "markdown",
      "metadata": {
        "id": "ZFL8WW5w69Eh"
      },
      "source": [
        "# EDA and preprocessing"
      ]
    },
    {
      "cell_type": "code",
      "metadata": {
        "colab": {
          "base_uri": "https://localhost:8080/",
          "height": 615
        },
        "id": "3s7Kyiwa3Qvp",
        "outputId": "f3a4359a-786f-4647-b4e7-e4e05b29e976"
      },
      "source": [
        "df=pd.read_csv('/content/sample_data/ArticlesApril2017.csv')\n",
        "df.head()"
      ],
      "execution_count": 2,
      "outputs": [
        {
          "output_type": "execute_result",
          "data": {
            "text/html": [
              "<div>\n",
              "<style scoped>\n",
              "    .dataframe tbody tr th:only-of-type {\n",
              "        vertical-align: middle;\n",
              "    }\n",
              "\n",
              "    .dataframe tbody tr th {\n",
              "        vertical-align: top;\n",
              "    }\n",
              "\n",
              "    .dataframe thead th {\n",
              "        text-align: right;\n",
              "    }\n",
              "</style>\n",
              "<table border=\"1\" class=\"dataframe\">\n",
              "  <thead>\n",
              "    <tr style=\"text-align: right;\">\n",
              "      <th></th>\n",
              "      <th>abstract</th>\n",
              "      <th>articleID</th>\n",
              "      <th>articleWordCount</th>\n",
              "      <th>byline</th>\n",
              "      <th>documentType</th>\n",
              "      <th>headline</th>\n",
              "      <th>keywords</th>\n",
              "      <th>multimedia</th>\n",
              "      <th>newDesk</th>\n",
              "      <th>printPage</th>\n",
              "      <th>pubDate</th>\n",
              "      <th>sectionName</th>\n",
              "      <th>snippet</th>\n",
              "      <th>source</th>\n",
              "      <th>typeOfMaterial</th>\n",
              "      <th>webURL</th>\n",
              "    </tr>\n",
              "  </thead>\n",
              "  <tbody>\n",
              "    <tr>\n",
              "      <th>0</th>\n",
              "      <td>NaN</td>\n",
              "      <td>58def1347c459f24986d7c80</td>\n",
              "      <td>716</td>\n",
              "      <td>By STEPHEN HILTNER and SUSAN LEHMAN</td>\n",
              "      <td>article</td>\n",
              "      <td>Finding an Expansive View  of a Forgotten Peop...</td>\n",
              "      <td>['Photography', 'New York Times', 'Niger', 'Fe...</td>\n",
              "      <td>3</td>\n",
              "      <td>Insider</td>\n",
              "      <td>2</td>\n",
              "      <td>2017-04-01 00:15:41</td>\n",
              "      <td>Unknown</td>\n",
              "      <td>One of the largest photo displays in Times his...</td>\n",
              "      <td>The New York Times</td>\n",
              "      <td>News</td>\n",
              "      <td>https://www.nytimes.com/2017/03/31/insider/nig...</td>\n",
              "    </tr>\n",
              "    <tr>\n",
              "      <th>1</th>\n",
              "      <td>NaN</td>\n",
              "      <td>58def3237c459f24986d7c84</td>\n",
              "      <td>823</td>\n",
              "      <td>By GAIL COLLINS</td>\n",
              "      <td>article</td>\n",
              "      <td>And Now,  the Dreaded Trump Curse</td>\n",
              "      <td>['United States Politics and Government', 'Tru...</td>\n",
              "      <td>3</td>\n",
              "      <td>OpEd</td>\n",
              "      <td>23</td>\n",
              "      <td>2017-04-01 00:23:58</td>\n",
              "      <td>Unknown</td>\n",
              "      <td>Meet the gang from under the bus.</td>\n",
              "      <td>The New York Times</td>\n",
              "      <td>Op-Ed</td>\n",
              "      <td>https://www.nytimes.com/2017/03/31/opinion/and...</td>\n",
              "    </tr>\n",
              "    <tr>\n",
              "      <th>2</th>\n",
              "      <td>NaN</td>\n",
              "      <td>58def9f57c459f24986d7c90</td>\n",
              "      <td>575</td>\n",
              "      <td>By THE EDITORIAL BOARD</td>\n",
              "      <td>article</td>\n",
              "      <td>Venezuela’s Descent Into Dictatorship</td>\n",
              "      <td>['Venezuela', 'Politics and Government', 'Madu...</td>\n",
              "      <td>3</td>\n",
              "      <td>Editorial</td>\n",
              "      <td>22</td>\n",
              "      <td>2017-04-01 00:53:06</td>\n",
              "      <td>Unknown</td>\n",
              "      <td>A court ruling annulling the legislature’s aut...</td>\n",
              "      <td>The New York Times</td>\n",
              "      <td>Editorial</td>\n",
              "      <td>https://www.nytimes.com/2017/03/31/opinion/ven...</td>\n",
              "    </tr>\n",
              "    <tr>\n",
              "      <th>3</th>\n",
              "      <td>NaN</td>\n",
              "      <td>58defd317c459f24986d7c95</td>\n",
              "      <td>1374</td>\n",
              "      <td>By MICHAEL POWELL</td>\n",
              "      <td>article</td>\n",
              "      <td>Stain Permeates Basketball Blue Blood</td>\n",
              "      <td>['Basketball (College)', 'University of North ...</td>\n",
              "      <td>3</td>\n",
              "      <td>Sports</td>\n",
              "      <td>1</td>\n",
              "      <td>2017-04-01 01:06:52</td>\n",
              "      <td>College Basketball</td>\n",
              "      <td>For two decades, until 2013, North Carolina en...</td>\n",
              "      <td>The New York Times</td>\n",
              "      <td>News</td>\n",
              "      <td>https://www.nytimes.com/2017/03/31/sports/ncaa...</td>\n",
              "    </tr>\n",
              "    <tr>\n",
              "      <th>4</th>\n",
              "      <td>NaN</td>\n",
              "      <td>58df09b77c459f24986d7ca7</td>\n",
              "      <td>708</td>\n",
              "      <td>By DEB AMLEN</td>\n",
              "      <td>article</td>\n",
              "      <td>Taking Things for Granted</td>\n",
              "      <td>['Crossword Puzzles']</td>\n",
              "      <td>3</td>\n",
              "      <td>Games</td>\n",
              "      <td>0</td>\n",
              "      <td>2017-04-01 02:00:14</td>\n",
              "      <td>Unknown</td>\n",
              "      <td>In which Howard Barkin and Will Shortz teach u...</td>\n",
              "      <td>The New York Times</td>\n",
              "      <td>News</td>\n",
              "      <td>https://www.nytimes.com/2017/03/31/crosswords/...</td>\n",
              "    </tr>\n",
              "  </tbody>\n",
              "</table>\n",
              "</div>"
            ],
            "text/plain": [
              "  abstract  ...                                             webURL\n",
              "0      NaN  ...  https://www.nytimes.com/2017/03/31/insider/nig...\n",
              "1      NaN  ...  https://www.nytimes.com/2017/03/31/opinion/and...\n",
              "2      NaN  ...  https://www.nytimes.com/2017/03/31/opinion/ven...\n",
              "3      NaN  ...  https://www.nytimes.com/2017/03/31/sports/ncaa...\n",
              "4      NaN  ...  https://www.nytimes.com/2017/03/31/crosswords/...\n",
              "\n",
              "[5 rows x 16 columns]"
            ]
          },
          "metadata": {
            "tags": []
          },
          "execution_count": 2
        }
      ]
    },
    {
      "cell_type": "code",
      "metadata": {
        "colab": {
          "base_uri": "https://localhost:8080/"
        },
        "id": "LeMMz5ZC6MZ1",
        "outputId": "e7283cb9-e325-42d9-be48-0e32f7190468"
      },
      "source": [
        "print('열의 개수: ',len(df.columns))\n",
        "print(df.columns)"
      ],
      "execution_count": 3,
      "outputs": [
        {
          "output_type": "stream",
          "text": [
            "열의 개수:  16\n",
            "Index(['abstract', 'articleID', 'articleWordCount', 'byline', 'documentType',\n",
            "       'headline', 'keywords', 'multimedia', 'newDesk', 'printPage', 'pubDate',\n",
            "       'sectionName', 'snippet', 'source', 'typeOfMaterial', 'webURL'],\n",
            "      dtype='object')\n"
          ],
          "name": "stdout"
        }
      ]
    },
    {
      "cell_type": "code",
      "metadata": {
        "colab": {
          "base_uri": "https://localhost:8080/"
        },
        "id": "QqgAsgKi6POk",
        "outputId": "4f2f9abb-485c-42e4-b7bf-0a0c985799fc"
      },
      "source": [
        "df['headline'].isnull().values.any()"
      ],
      "execution_count": 4,
      "outputs": [
        {
          "output_type": "execute_result",
          "data": {
            "text/plain": [
              "False"
            ]
          },
          "metadata": {
            "tags": []
          },
          "execution_count": 4
        }
      ]
    },
    {
      "cell_type": "code",
      "metadata": {
        "colab": {
          "base_uri": "https://localhost:8080/"
        },
        "id": "WEl8Y_736R4L",
        "outputId": "1aecd0b7-e3bb-4675-8992-766024455ca0"
      },
      "source": [
        "headline = [] # 리스트 선언\n",
        "headline.extend(list(df.headline.values)) # 헤드라인의 값들을 리스트로 저장\n",
        "headline[:5] # 상위 5개만 출력"
      ],
      "execution_count": 5,
      "outputs": [
        {
          "output_type": "execute_result",
          "data": {
            "text/plain": [
              "['Finding an Expansive View  of a Forgotten People in Niger',\n",
              " 'And Now,  the Dreaded Trump Curse',\n",
              " 'Venezuela’s Descent Into Dictatorship',\n",
              " 'Stain Permeates Basketball Blue Blood',\n",
              " 'Taking Things for Granted']"
            ]
          },
          "metadata": {
            "tags": []
          },
          "execution_count": 5
        }
      ]
    },
    {
      "cell_type": "code",
      "metadata": {
        "colab": {
          "base_uri": "https://localhost:8080/"
        },
        "id": "rnEzWO9J6UhI",
        "outputId": "1981db15-f2e5-47e3-fee4-37252d94ec0d"
      },
      "source": [
        "print('총 샘플의 개수 : {}'.format(len(headline))) # 현재 샘플의 개수"
      ],
      "execution_count": 6,
      "outputs": [
        {
          "output_type": "stream",
          "text": [
            "총 샘플의 개수 : 886\n"
          ],
          "name": "stdout"
        }
      ]
    },
    {
      "cell_type": "code",
      "metadata": {
        "colab": {
          "base_uri": "https://localhost:8080/"
        },
        "id": "oMHnt1i86bak",
        "outputId": "eb35bf2b-7c69-4edf-f797-8c3f825ca4f6"
      },
      "source": [
        "headline = [n for n in headline if n != \"Unknown\"] # Unknown 값을 가진 샘플 제거\n",
        "print('노이즈값 제거 후 샘플의 개수 : {}'.format(len(headline))) # 제거 후 샘플의 개수"
      ],
      "execution_count": 7,
      "outputs": [
        {
          "output_type": "stream",
          "text": [
            "노이즈값 제거 후 샘플의 개수 : 831\n"
          ],
          "name": "stdout"
        }
      ]
    },
    {
      "cell_type": "code",
      "metadata": {
        "colab": {
          "base_uri": "https://localhost:8080/"
        },
        "id": "000uXOCw6eTQ",
        "outputId": "587cfcdc-2ea0-4900-834d-4c15e8eb4da6"
      },
      "source": [
        "headline[:5]"
      ],
      "execution_count": 8,
      "outputs": [
        {
          "output_type": "execute_result",
          "data": {
            "text/plain": [
              "['Finding an Expansive View  of a Forgotten People in Niger',\n",
              " 'And Now,  the Dreaded Trump Curse',\n",
              " 'Venezuela’s Descent Into Dictatorship',\n",
              " 'Stain Permeates Basketball Blue Blood',\n",
              " 'Taking Things for Granted']"
            ]
          },
          "metadata": {
            "tags": []
          },
          "execution_count": 8
        }
      ]
    },
    {
      "cell_type": "code",
      "metadata": {
        "colab": {
          "base_uri": "https://localhost:8080/"
        },
        "id": "P0R-evuK6gLT",
        "outputId": "3aef601b-08a6-427f-9135-5e1eeef6a85b"
      },
      "source": [
        "def repreprocessing(s):\n",
        "    s=s.encode(\"utf8\").decode(\"ascii\",'ignore')\n",
        "    return ''.join(c for c in s if c not in punctuation).lower() # 구두점 제거와 동시에 소문자화\n",
        "\n",
        "text = [repreprocessing(x) for x in headline]\n",
        "text[:5]"
      ],
      "execution_count": 9,
      "outputs": [
        {
          "output_type": "execute_result",
          "data": {
            "text/plain": [
              "['finding an expansive view  of a forgotten people in niger',\n",
              " 'and now  the dreaded trump curse',\n",
              " 'venezuelas descent into dictatorship',\n",
              " 'stain permeates basketball blue blood',\n",
              " 'taking things for granted']"
            ]
          },
          "metadata": {
            "tags": []
          },
          "execution_count": 9
        }
      ]
    },
    {
      "cell_type": "code",
      "metadata": {
        "colab": {
          "base_uri": "https://localhost:8080/"
        },
        "id": "jsSfxzyH6h5Y",
        "outputId": "209b5bd2-09e0-4f78-df6b-bb1cdf58898b"
      },
      "source": [
        "t = Tokenizer()\n",
        "t.fit_on_texts(text)\n",
        "vocab_size = len(t.word_index) + 1\n",
        "print('단어 집합의 크기 : %d' % vocab_size)"
      ],
      "execution_count": 10,
      "outputs": [
        {
          "output_type": "stream",
          "text": [
            "단어 집합의 크기 : 2422\n"
          ],
          "name": "stdout"
        }
      ]
    },
    {
      "cell_type": "code",
      "metadata": {
        "colab": {
          "base_uri": "https://localhost:8080/"
        },
        "id": "4guJ8bVl6kMe",
        "outputId": "0c8e0033-629b-4476-8d93-a4c7073b3f33"
      },
      "source": [
        "sequences = list()\n",
        "\n",
        "for line in text: # 1,214 개의 샘플에 대해서 샘플을 1개씩 가져온다.\n",
        "    encoded = t.texts_to_sequences([line])[0] # 각 샘플에 대한 정수 인코딩\n",
        "    for i in range(1, len(encoded)):\n",
        "        sequence = encoded[:i+1]\n",
        "        sequences.append(sequence)\n",
        "\n",
        "sequences[:11] # 11개의 샘플 출력"
      ],
      "execution_count": 11,
      "outputs": [
        {
          "output_type": "execute_result",
          "data": {
            "text/plain": [
              "[[169, 17],\n",
              " [169, 17, 665],\n",
              " [169, 17, 665, 367],\n",
              " [169, 17, 665, 367, 4],\n",
              " [169, 17, 665, 367, 4, 2],\n",
              " [169, 17, 665, 367, 4, 2, 666],\n",
              " [169, 17, 665, 367, 4, 2, 666, 170],\n",
              " [169, 17, 665, 367, 4, 2, 666, 170, 5],\n",
              " [169, 17, 665, 367, 4, 2, 666, 170, 5, 667],\n",
              " [6, 80],\n",
              " [6, 80, 1]]"
            ]
          },
          "metadata": {
            "tags": []
          },
          "execution_count": 11
        }
      ]
    },
    {
      "cell_type": "code",
      "metadata": {
        "colab": {
          "base_uri": "https://localhost:8080/"
        },
        "id": "I0eGL4_e6l4V",
        "outputId": "4bbda55b-3734-4d2e-f7f0-8deb0dbfa8e2"
      },
      "source": [
        "index_to_word={}\n",
        "for key, value in t.word_index.items(): # 인덱스를 단어로 바꾸기 위해 index_to_word를 생성\n",
        "    index_to_word[value] = key\n",
        "\n",
        "print('빈도수 상위 582번 단어 : {}'.format(index_to_word[582]))"
      ],
      "execution_count": 12,
      "outputs": [
        {
          "output_type": "stream",
          "text": [
            "빈도수 상위 582번 단어 : exist\n"
          ],
          "name": "stdout"
        }
      ]
    },
    {
      "cell_type": "code",
      "metadata": {
        "colab": {
          "base_uri": "https://localhost:8080/"
        },
        "id": "sVnr4pYN6tSt",
        "outputId": "2017df5f-f0d0-4003-980a-ae50835bb259"
      },
      "source": [
        "max_len=max(len(l) for l in sequences)\n",
        "print('샘플의 최대 길이 : {}'.format(max_len))"
      ],
      "execution_count": 13,
      "outputs": [
        {
          "output_type": "stream",
          "text": [
            "샘플의 최대 길이 : 19\n"
          ],
          "name": "stdout"
        }
      ]
    },
    {
      "cell_type": "code",
      "metadata": {
        "colab": {
          "base_uri": "https://localhost:8080/"
        },
        "id": "ZYHFown06vxM",
        "outputId": "8c3cd41a-961c-47cc-b7b7-d9d508df8c65"
      },
      "source": [
        "sequences = pad_sequences(sequences, maxlen=max_len, padding='pre')\n",
        "print(sequences[:3])"
      ],
      "execution_count": 14,
      "outputs": [
        {
          "output_type": "stream",
          "text": [
            "[[  0   0   0   0   0   0   0   0   0   0   0   0   0   0   0   0   0 169\n",
            "   17]\n",
            " [  0   0   0   0   0   0   0   0   0   0   0   0   0   0   0   0 169  17\n",
            "  665]\n",
            " [  0   0   0   0   0   0   0   0   0   0   0   0   0   0   0 169  17 665\n",
            "  367]]\n"
          ],
          "name": "stdout"
        }
      ]
    },
    {
      "cell_type": "code",
      "metadata": {
        "colab": {
          "base_uri": "https://localhost:8080/"
        },
        "id": "xWNoduzy6wwT",
        "outputId": "39fcb8ac-d570-4dfd-e04b-406bff2f338d"
      },
      "source": [
        "sequences = np.array(sequences)\n",
        "X = sequences[:,:-1]\n",
        "y = sequences[:,-1]\n",
        "print(X[:3])\n",
        "print(y[:3]) # 레이블"
      ],
      "execution_count": 16,
      "outputs": [
        {
          "output_type": "stream",
          "text": [
            "[[  0   0   0   0   0   0   0   0   0   0   0   0   0   0   0   0   0 169]\n",
            " [  0   0   0   0   0   0   0   0   0   0   0   0   0   0   0   0 169  17]\n",
            " [  0   0   0   0   0   0   0   0   0   0   0   0   0   0   0 169  17 665]]\n",
            "[ 17 665 367]\n"
          ],
          "name": "stdout"
        }
      ]
    },
    {
      "cell_type": "code",
      "metadata": {
        "id": "U9VRyaCG6zKw"
      },
      "source": [
        "y = to_categorical(y, num_classes=vocab_size) # one-hot encoding"
      ],
      "execution_count": 17,
      "outputs": []
    },
    {
      "cell_type": "markdown",
      "metadata": {
        "id": "mft3psDi65lL"
      },
      "source": [
        "# 모델 설계"
      ]
    },
    {
      "cell_type": "code",
      "metadata": {
        "id": "cODk-_en62jD"
      },
      "source": [
        "from tensorflow.keras.models import Sequential\n",
        "from tensorflow.keras.layers import Embedding, Dense, LSTM"
      ],
      "execution_count": 18,
      "outputs": []
    },
    {
      "cell_type": "code",
      "metadata": {
        "colab": {
          "base_uri": "https://localhost:8080/"
        },
        "id": "Ba91ifLO7EQx",
        "outputId": "7e92217c-add8-4cc1-fa36-e25e550f41ee"
      },
      "source": [
        "model = Sequential()\n",
        "model.add(Embedding(vocab_size, 10, input_length=max_len-1))\n",
        "# y데이터를 분리하였으므로 이제 X데이터의 길이는 기존 데이터의 길이 - 1\n",
        "model.add(LSTM(128))\n",
        "model.add(Dense(vocab_size, activation='softmax'))\n",
        "model.compile(loss='categorical_crossentropy', optimizer='adam', metrics=['accuracy'])\n",
        "model.fit(X, y, epochs=200, verbose=2)"
      ],
      "execution_count": 19,
      "outputs": [
        {
          "output_type": "stream",
          "text": [
            "Epoch 1/200\n",
            "151/151 - 5s - loss: 7.4279 - accuracy: 0.0289\n",
            "Epoch 2/200\n",
            "151/151 - 3s - loss: 6.9084 - accuracy: 0.0302\n",
            "Epoch 3/200\n",
            "151/151 - 3s - loss: 6.7879 - accuracy: 0.0312\n",
            "Epoch 4/200\n",
            "151/151 - 3s - loss: 6.7007 - accuracy: 0.0366\n",
            "Epoch 5/200\n",
            "151/151 - 3s - loss: 6.6006 - accuracy: 0.0468\n",
            "Epoch 6/200\n",
            "151/151 - 3s - loss: 6.4793 - accuracy: 0.0458\n",
            "Epoch 7/200\n",
            "151/151 - 3s - loss: 6.3398 - accuracy: 0.0506\n",
            "Epoch 8/200\n",
            "151/151 - 3s - loss: 6.1776 - accuracy: 0.0524\n",
            "Epoch 9/200\n",
            "151/151 - 3s - loss: 6.0059 - accuracy: 0.0562\n",
            "Epoch 10/200\n",
            "151/151 - 3s - loss: 5.8419 - accuracy: 0.0570\n",
            "Epoch 11/200\n",
            "151/151 - 3s - loss: 5.6848 - accuracy: 0.0605\n",
            "Epoch 12/200\n",
            "151/151 - 3s - loss: 5.5353 - accuracy: 0.0658\n",
            "Epoch 13/200\n",
            "151/151 - 3s - loss: 5.3909 - accuracy: 0.0720\n",
            "Epoch 14/200\n",
            "151/151 - 3s - loss: 5.2539 - accuracy: 0.0753\n",
            "Epoch 15/200\n",
            "151/151 - 3s - loss: 5.1222 - accuracy: 0.0749\n",
            "Epoch 16/200\n",
            "151/151 - 3s - loss: 4.9949 - accuracy: 0.0811\n",
            "Epoch 17/200\n",
            "151/151 - 3s - loss: 4.8702 - accuracy: 0.0938\n",
            "Epoch 18/200\n",
            "151/151 - 3s - loss: 4.7469 - accuracy: 0.1047\n",
            "Epoch 19/200\n",
            "151/151 - 3s - loss: 4.6332 - accuracy: 0.1194\n",
            "Epoch 20/200\n",
            "151/151 - 3s - loss: 4.5169 - accuracy: 0.1307\n",
            "Epoch 21/200\n",
            "151/151 - 3s - loss: 4.4040 - accuracy: 0.1419\n",
            "Epoch 22/200\n",
            "151/151 - 4s - loss: 4.2953 - accuracy: 0.1563\n",
            "Epoch 23/200\n",
            "151/151 - 4s - loss: 4.1896 - accuracy: 0.1692\n",
            "Epoch 24/200\n",
            "151/151 - 4s - loss: 4.0879 - accuracy: 0.1875\n",
            "Epoch 25/200\n",
            "151/151 - 4s - loss: 3.9854 - accuracy: 0.1987\n",
            "Epoch 26/200\n",
            "151/151 - 3s - loss: 3.8906 - accuracy: 0.2193\n",
            "Epoch 27/200\n",
            "151/151 - 4s - loss: 3.7950 - accuracy: 0.2349\n",
            "Epoch 28/200\n",
            "151/151 - 3s - loss: 3.7070 - accuracy: 0.2511\n",
            "Epoch 29/200\n",
            "151/151 - 3s - loss: 3.6182 - accuracy: 0.2655\n",
            "Epoch 30/200\n",
            "151/151 - 3s - loss: 3.5327 - accuracy: 0.2821\n",
            "Epoch 31/200\n",
            "151/151 - 3s - loss: 3.4514 - accuracy: 0.3011\n",
            "Epoch 32/200\n",
            "151/151 - 3s - loss: 3.3705 - accuracy: 0.3179\n",
            "Epoch 33/200\n",
            "151/151 - 3s - loss: 3.2927 - accuracy: 0.3313\n",
            "Epoch 34/200\n",
            "151/151 - 3s - loss: 3.2190 - accuracy: 0.3414\n",
            "Epoch 35/200\n",
            "151/151 - 4s - loss: 3.1471 - accuracy: 0.3512\n",
            "Epoch 36/200\n",
            "151/151 - 4s - loss: 3.0791 - accuracy: 0.3614\n",
            "Epoch 37/200\n",
            "151/151 - 4s - loss: 3.0097 - accuracy: 0.3758\n",
            "Epoch 38/200\n",
            "151/151 - 4s - loss: 2.9468 - accuracy: 0.3885\n",
            "Epoch 39/200\n",
            "151/151 - 3s - loss: 2.8849 - accuracy: 0.3920\n",
            "Epoch 40/200\n",
            "151/151 - 3s - loss: 2.8253 - accuracy: 0.4084\n",
            "Epoch 41/200\n",
            "151/151 - 3s - loss: 2.7670 - accuracy: 0.4172\n",
            "Epoch 42/200\n",
            "151/151 - 3s - loss: 2.7091 - accuracy: 0.4303\n",
            "Epoch 43/200\n",
            "151/151 - 3s - loss: 2.6569 - accuracy: 0.4419\n",
            "Epoch 44/200\n",
            "151/151 - 3s - loss: 2.6032 - accuracy: 0.4496\n",
            "Epoch 45/200\n",
            "151/151 - 3s - loss: 2.5514 - accuracy: 0.4615\n",
            "Epoch 46/200\n",
            "151/151 - 4s - loss: 2.5001 - accuracy: 0.4669\n",
            "Epoch 47/200\n",
            "151/151 - 3s - loss: 2.4538 - accuracy: 0.4823\n",
            "Epoch 48/200\n",
            "151/151 - 3s - loss: 2.4076 - accuracy: 0.4929\n",
            "Epoch 49/200\n",
            "151/151 - 3s - loss: 2.3714 - accuracy: 0.4931\n",
            "Epoch 50/200\n",
            "151/151 - 3s - loss: 2.3220 - accuracy: 0.5060\n",
            "Epoch 51/200\n",
            "151/151 - 3s - loss: 2.2757 - accuracy: 0.5171\n",
            "Epoch 52/200\n",
            "151/151 - 3s - loss: 2.2318 - accuracy: 0.5262\n",
            "Epoch 53/200\n",
            "151/151 - 3s - loss: 2.1954 - accuracy: 0.5298\n",
            "Epoch 54/200\n",
            "151/151 - 3s - loss: 2.1554 - accuracy: 0.5385\n",
            "Epoch 55/200\n",
            "151/151 - 3s - loss: 2.1176 - accuracy: 0.5445\n",
            "Epoch 56/200\n",
            "151/151 - 3s - loss: 2.0801 - accuracy: 0.5531\n",
            "Epoch 57/200\n",
            "151/151 - 3s - loss: 2.0412 - accuracy: 0.5566\n",
            "Epoch 58/200\n",
            "151/151 - 4s - loss: 2.0069 - accuracy: 0.5682\n",
            "Epoch 59/200\n",
            "151/151 - 3s - loss: 1.9708 - accuracy: 0.5726\n",
            "Epoch 60/200\n",
            "151/151 - 3s - loss: 1.9370 - accuracy: 0.5866\n",
            "Epoch 61/200\n",
            "151/151 - 3s - loss: 1.9012 - accuracy: 0.5891\n",
            "Epoch 62/200\n",
            "151/151 - 3s - loss: 1.8711 - accuracy: 0.5982\n",
            "Epoch 63/200\n",
            "151/151 - 3s - loss: 1.8373 - accuracy: 0.6057\n",
            "Epoch 64/200\n",
            "151/151 - 3s - loss: 1.8088 - accuracy: 0.6088\n",
            "Epoch 65/200\n",
            "151/151 - 3s - loss: 1.7765 - accuracy: 0.6188\n",
            "Epoch 66/200\n",
            "151/151 - 3s - loss: 1.7442 - accuracy: 0.6207\n",
            "Epoch 67/200\n",
            "151/151 - 3s - loss: 1.7156 - accuracy: 0.6294\n",
            "Epoch 68/200\n",
            "151/151 - 3s - loss: 1.6882 - accuracy: 0.6363\n",
            "Epoch 69/200\n",
            "151/151 - 3s - loss: 1.6581 - accuracy: 0.6390\n",
            "Epoch 70/200\n",
            "151/151 - 3s - loss: 1.6286 - accuracy: 0.6506\n",
            "Epoch 71/200\n",
            "151/151 - 3s - loss: 1.5980 - accuracy: 0.6540\n",
            "Epoch 72/200\n",
            "151/151 - 3s - loss: 1.5701 - accuracy: 0.6625\n",
            "Epoch 73/200\n",
            "151/151 - 3s - loss: 1.5429 - accuracy: 0.6677\n",
            "Epoch 74/200\n",
            "151/151 - 3s - loss: 1.5201 - accuracy: 0.6725\n",
            "Epoch 75/200\n",
            "151/151 - 3s - loss: 1.4913 - accuracy: 0.6821\n",
            "Epoch 76/200\n",
            "151/151 - 3s - loss: 1.4638 - accuracy: 0.6860\n",
            "Epoch 77/200\n",
            "151/151 - 3s - loss: 1.4406 - accuracy: 0.6935\n",
            "Epoch 78/200\n",
            "151/151 - 3s - loss: 1.4157 - accuracy: 0.6981\n",
            "Epoch 79/200\n",
            "151/151 - 4s - loss: 1.3889 - accuracy: 0.7050\n",
            "Epoch 80/200\n",
            "151/151 - 4s - loss: 1.3601 - accuracy: 0.7122\n",
            "Epoch 81/200\n",
            "151/151 - 3s - loss: 1.3379 - accuracy: 0.7181\n",
            "Epoch 82/200\n",
            "151/151 - 4s - loss: 1.3130 - accuracy: 0.7231\n",
            "Epoch 83/200\n",
            "151/151 - 4s - loss: 1.2916 - accuracy: 0.7268\n",
            "Epoch 84/200\n",
            "151/151 - 3s - loss: 1.2664 - accuracy: 0.7333\n",
            "Epoch 85/200\n",
            "151/151 - 3s - loss: 1.2428 - accuracy: 0.7380\n",
            "Epoch 86/200\n",
            "151/151 - 3s - loss: 1.2216 - accuracy: 0.7389\n",
            "Epoch 87/200\n",
            "151/151 - 3s - loss: 1.1988 - accuracy: 0.7464\n",
            "Epoch 88/200\n",
            "151/151 - 3s - loss: 1.1751 - accuracy: 0.7553\n",
            "Epoch 89/200\n",
            "151/151 - 3s - loss: 1.1550 - accuracy: 0.7528\n",
            "Epoch 90/200\n",
            "151/151 - 3s - loss: 1.1331 - accuracy: 0.7599\n",
            "Epoch 91/200\n",
            "151/151 - 3s - loss: 1.1142 - accuracy: 0.7613\n",
            "Epoch 92/200\n",
            "151/151 - 3s - loss: 1.0925 - accuracy: 0.7636\n",
            "Epoch 93/200\n",
            "151/151 - 3s - loss: 1.0748 - accuracy: 0.7730\n",
            "Epoch 94/200\n",
            "151/151 - 3s - loss: 1.0523 - accuracy: 0.7749\n",
            "Epoch 95/200\n",
            "151/151 - 3s - loss: 1.0343 - accuracy: 0.7809\n",
            "Epoch 96/200\n",
            "151/151 - 3s - loss: 1.0173 - accuracy: 0.7880\n",
            "Epoch 97/200\n",
            "151/151 - 3s - loss: 0.9969 - accuracy: 0.7901\n",
            "Epoch 98/200\n",
            "151/151 - 3s - loss: 0.9789 - accuracy: 0.7926\n",
            "Epoch 99/200\n",
            "151/151 - 3s - loss: 0.9594 - accuracy: 0.7998\n",
            "Epoch 100/200\n",
            "151/151 - 3s - loss: 0.9458 - accuracy: 0.8046\n",
            "Epoch 101/200\n",
            "151/151 - 3s - loss: 0.9253 - accuracy: 0.8096\n",
            "Epoch 102/200\n",
            "151/151 - 3s - loss: 0.9067 - accuracy: 0.8079\n",
            "Epoch 103/200\n",
            "151/151 - 3s - loss: 0.8916 - accuracy: 0.8150\n",
            "Epoch 104/200\n",
            "151/151 - 3s - loss: 0.8737 - accuracy: 0.8186\n",
            "Epoch 105/200\n",
            "151/151 - 3s - loss: 0.8580 - accuracy: 0.8204\n",
            "Epoch 106/200\n",
            "151/151 - 3s - loss: 0.8443 - accuracy: 0.8250\n",
            "Epoch 107/200\n",
            "151/151 - 3s - loss: 0.8304 - accuracy: 0.8306\n",
            "Epoch 108/200\n",
            "151/151 - 3s - loss: 0.8120 - accuracy: 0.8327\n",
            "Epoch 109/200\n",
            "151/151 - 3s - loss: 0.7954 - accuracy: 0.8375\n",
            "Epoch 110/200\n",
            "151/151 - 3s - loss: 0.7824 - accuracy: 0.8396\n",
            "Epoch 111/200\n",
            "151/151 - 3s - loss: 0.7675 - accuracy: 0.8414\n",
            "Epoch 112/200\n",
            "151/151 - 3s - loss: 0.7531 - accuracy: 0.8458\n",
            "Epoch 113/200\n",
            "151/151 - 3s - loss: 0.7400 - accuracy: 0.8487\n",
            "Epoch 114/200\n",
            "151/151 - 3s - loss: 0.7278 - accuracy: 0.8491\n",
            "Epoch 115/200\n",
            "151/151 - 3s - loss: 0.7120 - accuracy: 0.8502\n",
            "Epoch 116/200\n",
            "151/151 - 3s - loss: 0.7011 - accuracy: 0.8560\n",
            "Epoch 117/200\n",
            "151/151 - 3s - loss: 0.6879 - accuracy: 0.8543\n",
            "Epoch 118/200\n",
            "151/151 - 3s - loss: 0.6745 - accuracy: 0.8546\n",
            "Epoch 119/200\n",
            "151/151 - 3s - loss: 0.6628 - accuracy: 0.8585\n",
            "Epoch 120/200\n",
            "151/151 - 3s - loss: 0.6511 - accuracy: 0.8627\n",
            "Epoch 121/200\n",
            "151/151 - 3s - loss: 0.6382 - accuracy: 0.8650\n",
            "Epoch 122/200\n",
            "151/151 - 3s - loss: 0.6284 - accuracy: 0.8670\n",
            "Epoch 123/200\n",
            "151/151 - 3s - loss: 0.6161 - accuracy: 0.8697\n",
            "Epoch 124/200\n",
            "151/151 - 3s - loss: 0.6095 - accuracy: 0.8697\n",
            "Epoch 125/200\n",
            "151/151 - 3s - loss: 0.6024 - accuracy: 0.8720\n",
            "Epoch 126/200\n",
            "151/151 - 4s - loss: 0.5862 - accuracy: 0.8764\n",
            "Epoch 127/200\n",
            "151/151 - 4s - loss: 0.5748 - accuracy: 0.8774\n",
            "Epoch 128/200\n",
            "151/151 - 4s - loss: 0.5640 - accuracy: 0.8787\n",
            "Epoch 129/200\n",
            "151/151 - 4s - loss: 0.5544 - accuracy: 0.8810\n",
            "Epoch 130/200\n",
            "151/151 - 4s - loss: 0.5444 - accuracy: 0.8835\n",
            "Epoch 131/200\n",
            "151/151 - 3s - loss: 0.5377 - accuracy: 0.8822\n",
            "Epoch 132/200\n",
            "151/151 - 3s - loss: 0.5279 - accuracy: 0.8854\n",
            "Epoch 133/200\n",
            "151/151 - 3s - loss: 0.5192 - accuracy: 0.8847\n",
            "Epoch 134/200\n",
            "151/151 - 3s - loss: 0.5096 - accuracy: 0.8889\n",
            "Epoch 135/200\n",
            "151/151 - 3s - loss: 0.5000 - accuracy: 0.8912\n",
            "Epoch 136/200\n",
            "151/151 - 4s - loss: 0.4931 - accuracy: 0.8924\n",
            "Epoch 137/200\n",
            "151/151 - 4s - loss: 0.4862 - accuracy: 0.8933\n",
            "Epoch 138/200\n",
            "151/151 - 3s - loss: 0.4770 - accuracy: 0.8951\n",
            "Epoch 139/200\n",
            "151/151 - 3s - loss: 0.4701 - accuracy: 0.8926\n",
            "Epoch 140/200\n",
            "151/151 - 3s - loss: 0.4629 - accuracy: 0.8941\n",
            "Epoch 141/200\n",
            "151/151 - 3s - loss: 0.4566 - accuracy: 0.8972\n",
            "Epoch 142/200\n",
            "151/151 - 3s - loss: 0.4503 - accuracy: 0.8983\n",
            "Epoch 143/200\n",
            "151/151 - 3s - loss: 0.4419 - accuracy: 0.8953\n",
            "Epoch 144/200\n",
            "151/151 - 3s - loss: 0.4390 - accuracy: 0.8974\n",
            "Epoch 145/200\n",
            "151/151 - 3s - loss: 0.4314 - accuracy: 0.9001\n",
            "Epoch 146/200\n",
            "151/151 - 3s - loss: 0.4252 - accuracy: 0.8989\n",
            "Epoch 147/200\n",
            "151/151 - 3s - loss: 0.4185 - accuracy: 0.8999\n",
            "Epoch 148/200\n",
            "151/151 - 3s - loss: 0.4121 - accuracy: 0.9022\n",
            "Epoch 149/200\n",
            "151/151 - 3s - loss: 0.4077 - accuracy: 0.9018\n",
            "Epoch 150/200\n",
            "151/151 - 3s - loss: 0.4085 - accuracy: 0.9010\n",
            "Epoch 151/200\n",
            "151/151 - 3s - loss: 0.3990 - accuracy: 0.9047\n",
            "Epoch 152/200\n",
            "151/151 - 3s - loss: 0.3926 - accuracy: 0.9020\n",
            "Epoch 153/200\n",
            "151/151 - 3s - loss: 0.3887 - accuracy: 0.9028\n",
            "Epoch 154/200\n",
            "151/151 - 3s - loss: 0.3831 - accuracy: 0.9049\n",
            "Epoch 155/200\n",
            "151/151 - 3s - loss: 0.3785 - accuracy: 0.9043\n",
            "Epoch 156/200\n",
            "151/151 - 3s - loss: 0.3740 - accuracy: 0.9047\n",
            "Epoch 157/200\n",
            "151/151 - 3s - loss: 0.3698 - accuracy: 0.9055\n",
            "Epoch 158/200\n",
            "151/151 - 3s - loss: 0.3647 - accuracy: 0.9047\n",
            "Epoch 159/200\n",
            "151/151 - 3s - loss: 0.3613 - accuracy: 0.9089\n",
            "Epoch 160/200\n",
            "151/151 - 3s - loss: 0.3579 - accuracy: 0.9057\n",
            "Epoch 161/200\n",
            "151/151 - 3s - loss: 0.3537 - accuracy: 0.9049\n",
            "Epoch 162/200\n",
            "151/151 - 3s - loss: 0.3511 - accuracy: 0.9060\n",
            "Epoch 163/200\n",
            "151/151 - 3s - loss: 0.3473 - accuracy: 0.9091\n",
            "Epoch 164/200\n",
            "151/151 - 3s - loss: 0.3435 - accuracy: 0.9076\n",
            "Epoch 165/200\n",
            "151/151 - 3s - loss: 0.3411 - accuracy: 0.9084\n",
            "Epoch 166/200\n",
            "151/151 - 3s - loss: 0.3452 - accuracy: 0.9070\n",
            "Epoch 167/200\n",
            "151/151 - 3s - loss: 0.3471 - accuracy: 0.9037\n",
            "Epoch 168/200\n",
            "151/151 - 3s - loss: 0.3452 - accuracy: 0.9087\n",
            "Epoch 169/200\n",
            "151/151 - 3s - loss: 0.3326 - accuracy: 0.9101\n",
            "Epoch 170/200\n",
            "151/151 - 3s - loss: 0.3279 - accuracy: 0.9082\n",
            "Epoch 171/200\n",
            "151/151 - 3s - loss: 0.3232 - accuracy: 0.9089\n",
            "Epoch 172/200\n",
            "151/151 - 3s - loss: 0.3221 - accuracy: 0.9076\n",
            "Epoch 173/200\n",
            "151/151 - 4s - loss: 0.3206 - accuracy: 0.9057\n",
            "Epoch 174/200\n",
            "151/151 - 3s - loss: 0.3169 - accuracy: 0.9070\n",
            "Epoch 175/200\n",
            "151/151 - 3s - loss: 0.3157 - accuracy: 0.9080\n",
            "Epoch 176/200\n",
            "151/151 - 3s - loss: 0.3138 - accuracy: 0.9097\n",
            "Epoch 177/200\n",
            "151/151 - 3s - loss: 0.3108 - accuracy: 0.9078\n",
            "Epoch 178/200\n",
            "151/151 - 3s - loss: 0.3095 - accuracy: 0.9093\n",
            "Epoch 179/200\n",
            "151/151 - 3s - loss: 0.3100 - accuracy: 0.9066\n",
            "Epoch 180/200\n",
            "151/151 - 3s - loss: 0.3071 - accuracy: 0.9089\n",
            "Epoch 181/200\n",
            "151/151 - 3s - loss: 0.3034 - accuracy: 0.9093\n",
            "Epoch 182/200\n",
            "151/151 - 3s - loss: 0.3035 - accuracy: 0.9107\n",
            "Epoch 183/200\n",
            "151/151 - 3s - loss: 0.3013 - accuracy: 0.9089\n",
            "Epoch 184/200\n",
            "151/151 - 3s - loss: 0.3016 - accuracy: 0.9099\n",
            "Epoch 185/200\n",
            "151/151 - 3s - loss: 0.2990 - accuracy: 0.9097\n",
            "Epoch 186/200\n",
            "151/151 - 3s - loss: 0.2984 - accuracy: 0.9093\n",
            "Epoch 187/200\n",
            "151/151 - 3s - loss: 0.2969 - accuracy: 0.9076\n",
            "Epoch 188/200\n",
            "151/151 - 3s - loss: 0.2946 - accuracy: 0.9095\n",
            "Epoch 189/200\n",
            "151/151 - 3s - loss: 0.2940 - accuracy: 0.9080\n",
            "Epoch 190/200\n",
            "151/151 - 3s - loss: 0.2914 - accuracy: 0.9066\n",
            "Epoch 191/200\n",
            "151/151 - 3s - loss: 0.2916 - accuracy: 0.9103\n",
            "Epoch 192/200\n",
            "151/151 - 3s - loss: 0.2904 - accuracy: 0.9112\n",
            "Epoch 193/200\n",
            "151/151 - 3s - loss: 0.2887 - accuracy: 0.9082\n",
            "Epoch 194/200\n",
            "151/151 - 4s - loss: 0.2907 - accuracy: 0.9089\n",
            "Epoch 195/200\n",
            "151/151 - 3s - loss: 0.2864 - accuracy: 0.9091\n",
            "Epoch 196/200\n",
            "151/151 - 3s - loss: 0.2868 - accuracy: 0.9066\n",
            "Epoch 197/200\n",
            "151/151 - 3s - loss: 0.2870 - accuracy: 0.9091\n",
            "Epoch 198/200\n",
            "151/151 - 3s - loss: 0.2858 - accuracy: 0.9095\n",
            "Epoch 199/200\n",
            "151/151 - 3s - loss: 0.2898 - accuracy: 0.9055\n",
            "Epoch 200/200\n",
            "151/151 - 3s - loss: 0.3055 - accuracy: 0.9049\n"
          ],
          "name": "stdout"
        },
        {
          "output_type": "execute_result",
          "data": {
            "text/plain": [
              "<tensorflow.python.keras.callbacks.History at 0x7ff1531660f0>"
            ]
          },
          "metadata": {
            "tags": []
          },
          "execution_count": 19
        }
      ]
    },
    {
      "cell_type": "code",
      "metadata": {
        "id": "UsehSEeBBh2v"
      },
      "source": [
        "def sentence_generation(model, t, current_word, n): # 모델, 토크나이저, 현재 단어, 반복할 횟수\n",
        "    init_word = current_word # 처음 들어온 단어도 마지막에 같이 출력하기위해 저장\n",
        "    sentence = ''\n",
        "    for _ in range(n): # n번 반복\n",
        "        encoded = t.texts_to_sequences([current_word])[0] # 현재 단어에 대한 정수 인코딩\n",
        "        encoded = pad_sequences([encoded], maxlen=23, padding='pre') # 데이터에 대한 패딩\n",
        "        result = model.predict_classes(encoded, verbose=0)\n",
        "    # 입력한 X(현재 단어)에 대해서 y를 예측하고 y(예측한 단어)를 result에 저장.\n",
        "        for word, index in t.word_index.items(): \n",
        "            if index == result: # 만약 예측한 단어와 인덱스와 동일한 단어가 있다면\n",
        "                break # 해당 단어가 예측 단어이므로 break\n",
        "        current_word = current_word + ' '  + word # 현재 단어 + ' ' + 예측 단어를 현재 단어로 변경\n",
        "        sentence = sentence + ' ' + word # 예측 단어를 문장에 저장\n",
        "    # for문이므로 이 행동을 다시 반복\n",
        "    sentence = init_word + sentence\n",
        "    return sentence"
      ],
      "execution_count": 20,
      "outputs": []
    },
    {
      "cell_type": "code",
      "metadata": {
        "colab": {
          "base_uri": "https://localhost:8080/"
        },
        "id": "F-oA2Sx7CNqQ",
        "outputId": "ff6fa612-10e4-4f5d-cc71-d072579aee55"
      },
      "source": [
        "print(sentence_generation(model, t, 'i', 10))"
      ],
      "execution_count": 21,
      "outputs": [
        {
          "output_type": "stream",
          "text": [
            "WARNING:tensorflow:Model was constructed with shape (None, 18) for input KerasTensor(type_spec=TensorSpec(shape=(None, 18), dtype=tf.float32, name='embedding_input'), name='embedding_input', description=\"created by layer 'embedding_input'\"), but it was called on an input with incompatible shape (None, 23).\n"
          ],
          "name": "stdout"
        },
        {
          "output_type": "stream",
          "text": [
            "/usr/local/lib/python3.6/dist-packages/tensorflow/python/keras/engine/sequential.py:450: UserWarning: `model.predict_classes()` is deprecated and will be removed after 2021-01-01. Please use instead:* `np.argmax(model.predict(x), axis=-1)`,   if your model does multi-class classification   (e.g. if it uses a `softmax` last-layer activation).* `(model.predict(x) > 0.5).astype(\"int32\")`,   if your model does binary classification   (e.g. if it uses a `sigmoid` last-layer activation).\n",
            "  warnings.warn('`model.predict_classes()` is deprecated and '\n"
          ],
          "name": "stderr"
        },
        {
          "output_type": "stream",
          "text": [
            "i love my sublet and i want to buy it how\n"
          ],
          "name": "stdout"
        }
      ]
    },
    {
      "cell_type": "code",
      "metadata": {
        "colab": {
          "base_uri": "https://localhost:8080/"
        },
        "id": "4q-E4M1WCPZR",
        "outputId": "376250f1-ad9e-49c6-acaa-d2f81a9caee0"
      },
      "source": [
        "print(sentence_generation(model, t, 'how', 10))"
      ],
      "execution_count": 22,
      "outputs": [
        {
          "output_type": "stream",
          "text": [
            "/usr/local/lib/python3.6/dist-packages/tensorflow/python/keras/engine/sequential.py:450: UserWarning: `model.predict_classes()` is deprecated and will be removed after 2021-01-01. Please use instead:* `np.argmax(model.predict(x), axis=-1)`,   if your model does multi-class classification   (e.g. if it uses a `softmax` last-layer activation).* `(model.predict(x) > 0.5).astype(\"int32\")`,   if your model does binary classification   (e.g. if it uses a `sigmoid` last-layer activation).\n",
            "  warnings.warn('`model.predict_classes()` is deprecated and '\n"
          ],
          "name": "stderr"
        },
        {
          "output_type": "stream",
          "text": [
            "how to be mindful when you are angry responding to provide\n"
          ],
          "name": "stdout"
        }
      ]
    },
    {
      "cell_type": "code",
      "metadata": {
        "id": "9Kriqd6pCS3e"
      },
      "source": [
        ""
      ],
      "execution_count": null,
      "outputs": []
    }
  ]
}